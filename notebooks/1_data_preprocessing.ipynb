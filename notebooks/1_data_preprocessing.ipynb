{
 "cells": [
  {
   "cell_type": "code",
   "execution_count": 1,
   "metadata": {},
   "outputs": [
    {
     "name": "stdout",
     "output_type": "stream",
     "text": [
      "Cleaned dataset saved to ../data/telco_cleaned.csv\n"
     ]
    }
   ],
   "source": [
    "import pandas as pd\n",
    "\n",
    "# Load dataset\n",
    "file_path = \"../data/raw_data.csv\"  # Adjust path as needed\n",
    "df = pd.read_csv(file_path)\n",
    "\n",
    "# Handle missing values\n",
    "df['TotalCharges'] = pd.to_numeric(df['TotalCharges'], errors='coerce')\n",
    "df = df.dropna(subset=['TotalCharges'])\n",
    "\n",
    "# Create tenure category\n",
    "df['tenure_category'] = pd.cut(df['tenure'], bins=[0, 12, 24, 36, 48, 60], labels=['0-12', '13-24', '25-36', '37-48', '49-60'])\n",
    "\n",
    "# Encode Churn column\n",
    "df['Churn'] = df['Churn'].map({'Yes': 1, 'No': 0})\n",
    "\n",
    "# Save cleaned dataset\n",
    "output_path = \"../data/telco_cleaned.csv\"\n",
    "df.to_csv(output_path, index=False)\n",
    "print(f\"Cleaned dataset saved to {output_path}\")\n"
   ]
  }
 ],
 "metadata": {
  "kernelspec": {
   "display_name": "venv",
   "language": "python",
   "name": "python3"
  },
  "language_info": {
   "codemirror_mode": {
    "name": "ipython",
    "version": 3
   },
   "file_extension": ".py",
   "mimetype": "text/x-python",
   "name": "python",
   "nbconvert_exporter": "python",
   "pygments_lexer": "ipython3",
   "version": "3.12.7"
  }
 },
 "nbformat": 4,
 "nbformat_minor": 2
}
